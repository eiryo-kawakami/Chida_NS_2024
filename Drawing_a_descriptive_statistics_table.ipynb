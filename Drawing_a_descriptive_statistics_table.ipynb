{
 "cells": [
  {
   "cell_type": "markdown",
   "id": "da324c87-ffda-4375-9e7b-a4565eabeb20",
   "metadata": {},
   "source": [
    "# Making a descriptive statistics table\n",
    "Prepare dataframes of the case and control group before this analysis"
   ]
  },
  {
   "cell_type": "markdown",
   "id": "f80eb8ac-0c18-4622-ba3e-fe42e056077e",
   "metadata": {},
   "source": [
    "## Preparation "
   ]
  },
  {
   "cell_type": "code",
   "execution_count": 1,
   "id": "e9304df3-094e-4688-b44e-059b2788edd2",
   "metadata": {},
   "outputs": [
    {
     "name": "stdout",
     "output_type": "stream",
     "text": [
      "pandas: 1.3.4\n",
      "numpy: 1.22.4\n",
      "matplotlib: 3.6.3\n",
      "rpy2: 3.5.6\n"
     ]
    }
   ],
   "source": [
    "# Read modules\n",
    "import os\n",
    "import pandas as pd\n",
    "import numpy as np\n",
    "import matplotlib as mpl\n",
    "import matplotlib.pyplot as plt\n",
    "# We used R library combined with python.\n",
    "import rpy2\n",
    "\n",
    "print(\"pandas:\",pd.__version__)\n",
    "print(\"numpy:\",np.__version__)\n",
    "print(\"matplotlib:\",mpl.__version__)\n",
    "print(\"rpy2:\",rpy2.__version__)\n",
    "\n",
    "%load_ext rpy2.ipython"
   ]
  },
  {
   "cell_type": "code",
   "execution_count": 2,
   "id": "44c846b3-be55-41ab-a695-f5676b964730",
   "metadata": {},
   "outputs": [],
   "source": [
    "# Set output path\n",
    "current_path = \"/Users/chidakatsuyuki/Desktop/Project/Codes_for_NS_article/\"\n",
    "output_dir = current_path + 'NephroticSyndrome_checkups/'\n",
    "if not os.path.exists(output_dir):\n",
    "    os.mkdir(output_dir)\n",
    "    \n",
    "\n",
    "# Data path\n",
    "personal_path = current_path + \"NephroticSyndrome_csv/Personals.csv\"\n",
    "checkup_path = current_path + \"NephroticSyndrome_csv/Checkups.csv\"\n",
    "group_label_path = current_path + \"NephroticSyndrome_csv/group.csv\"\n",
    "\n"
   ]
  },
  {
   "cell_type": "markdown",
   "id": "c03315ca-5766-4aec-bac2-2ed4c42b85f7",
   "metadata": {},
   "source": [
    "## Descriptive statistics table"
   ]
  },
  {
   "cell_type": "code",
   "execution_count": 3,
   "id": "2f3390bf-cead-42aa-90cc-a5a536a16ef0",
   "metadata": {},
   "outputs": [
    {
     "data": {
      "text/html": [
       "<div>\n",
       "<style scoped>\n",
       "    .dataframe tbody tr th:only-of-type {\n",
       "        vertical-align: middle;\n",
       "    }\n",
       "\n",
       "    .dataframe tbody tr th {\n",
       "        vertical-align: top;\n",
       "    }\n",
       "\n",
       "    .dataframe thead th {\n",
       "        text-align: right;\n",
       "    }\n",
       "</style>\n",
       "<table border=\"1\" class=\"dataframe\">\n",
       "  <thead>\n",
       "    <tr style=\"text-align: right;\">\n",
       "      <th></th>\n",
       "      <th>Enrollee ID</th>\n",
       "      <th>Sex</th>\n",
       "      <th>Observation_start_yyyymm</th>\n",
       "      <th>Observation_end_yyyymm</th>\n",
       "      <th>Death_censor</th>\n",
       "      <th>Target_diag_yyyymm</th>\n",
       "      <th>Age_at_start</th>\n",
       "      <th>Obsevation_length</th>\n",
       "      <th>Target</th>\n",
       "    </tr>\n",
       "  </thead>\n",
       "  <tbody>\n",
       "    <tr>\n",
       "      <th>0</th>\n",
       "      <td>M000051963</td>\n",
       "      <td>Female</td>\n",
       "      <td>201101</td>\n",
       "      <td>201903</td>\n",
       "      <td>NaN</td>\n",
       "      <td>201411</td>\n",
       "      <td>36</td>\n",
       "      <td>98</td>\n",
       "      <td>1</td>\n",
       "    </tr>\n",
       "    <tr>\n",
       "      <th>329</th>\n",
       "      <td>M000055609</td>\n",
       "      <td>Male</td>\n",
       "      <td>201203</td>\n",
       "      <td>201903</td>\n",
       "      <td>NaN</td>\n",
       "      <td>201504</td>\n",
       "      <td>60</td>\n",
       "      <td>84</td>\n",
       "      <td>1</td>\n",
       "    </tr>\n",
       "  </tbody>\n",
       "</table>\n",
       "</div>"
      ],
      "text/plain": [
       "    Enrollee ID     Sex  Observation_start_yyyymm  Observation_end_yyyymm  \\\n",
       "0    M000051963  Female                    201101                  201903   \n",
       "329  M000055609    Male                    201203                  201903   \n",
       "\n",
       "     Death_censor  Target_diag_yyyymm  Age_at_start  Obsevation_length  Target  \n",
       "0             NaN              201411            36                 98       1  \n",
       "329           NaN              201504            60                 84       1  "
      ]
     },
     "execution_count": 3,
     "metadata": {},
     "output_type": "execute_result"
    }
   ],
   "source": [
    "# Personal data of both group\n",
    "use_cols= ['Enrollee ID', 'Sex', \n",
    "           'Age_at_start',\n",
    "           \"Death_censor\",\n",
    "           \"Obsevation_length\",\n",
    "           \"Target_diag_yyyymm\",\n",
    "           \"Observation_start_yyyymm\",\n",
    "           \"Observation_end_yyyymm\",\n",
    "           'Target']\n",
    "\n",
    "df_p = pd.read_csv (current_path + 'NephroticSyndrome_csv/'+'patient/Group_diseases.csv',\n",
    "                   usecols=use_cols).drop_duplicates()\n",
    "df_c = pd.read_csv (current_path + 'NephroticSyndrome_csv/'+'control/Group_diseases.csv',\n",
    "                   usecols=use_cols).drop_duplicates()\n",
    "\n",
    "df_ps = pd.concat([df_p,df_c])\n",
    "# Translate Japanese column names into English ones\n",
    "dic_en= {'加入者ID':\"Enrollee ID\",\"加入者性別\": \"Sex\",\"観察終了理由(死亡)フラグ\":\"Death\"}\n",
    "df_ps.rename(columns=dic_en,inplace=True)\n",
    "\n",
    "# Translate Japanese categorical variables into English ones\n",
    "dic_env= {\"女性\":\"Female\",\"男性\":\"Male\"}\n",
    "df_ps.replace(dic_env,inplace=True)\n",
    "df_ps.head(2)"
   ]
  },
  {
   "cell_type": "code",
   "execution_count": 4,
   "id": "75d5e613-ce32-404d-94e2-bdead9934f63",
   "metadata": {},
   "outputs": [],
   "source": [
    "df_ps[\"Before_onset\"] = - (pd.to_datetime(df_ps[\"Observation_start_yyyymm\"],format=\"%Y%m\").dt.to_period(\"M\").view(int) \n",
    "                           - pd.to_datetime(df_ps[\"Target_diag_yyyymm\"],format=\"%Y%m\").dt.to_period(\"M\").view(int)) \n",
    "df_ps[\"After_onset\"] = pd.to_datetime(\n",
    "    df_ps[\"Observation_end_yyyymm\"],format=\"%Y%m\").dt.to_period(\"M\").view(int) - pd.to_datetime(\n",
    "    df_ps[\"Target_diag_yyyymm\"],format=\"%Y%m\").dt.to_period(\"M\").view(int)"
   ]
  },
  {
   "cell_type": "code",
   "execution_count": 5,
   "id": "92145454-cb95-4c7e-b80d-b8c03567050e",
   "metadata": {
    "tags": []
   },
   "outputs": [],
   "source": [
    "# Our dataframe for English translation of checkup data\n",
    "df_en = pd.read_csv(current_path + 'HealthCheckupEnglish_for_R_cp932.csv',encoding=\"cp932\")      \n",
    "dic_en = dict(zip(df_en.Japanese,df_en.Bind))\n",
    "\n",
    "# Health checkup data of both group\n",
    "df_hc = pd.read_csv(checkup_path) \n",
    "df_hc.rename(columns=dic_en,inplace=True)\n",
    "df_fhc = df_hc.sort_values(by=\"Health examination ymd\",\n",
    "                           kind=\"mergesort\").drop_duplicates(subset=\"Enrollee ID\", keep=\"first\")"
   ]
  },
  {
   "cell_type": "code",
   "execution_count": 6,
   "id": "b4ad3697-699d-451d-b20f-63ad31be1c9d",
   "metadata": {},
   "outputs": [
    {
     "data": {
      "text/plain": [
       "<BarContainer object of 57 artists>"
      ]
     },
     "execution_count": 6,
     "metadata": {},
     "output_type": "execute_result"
    },
    {
     "data": {
      "image/png": "[encoded data removed]",
      "text/plain": [
       "<Figure size 720x1296 with 1 Axes>"
      ]
     },
     "metadata": {
      "needs_background": "light"
     },
     "output_type": "display_data"
    }
   ],
   "source": [
    "# Check missing value ratio\n",
    "plt.figure(figsize=(10,18))\n",
    "df_missing = pd.DataFrame(columns=[\"Missing\"],data=df_fhc.isnull().sum(axis=0)\n",
    "                         ).sort_values(by=\"Missing\", ascending =False, kind=\"mergesort\")\n",
    "# Draw missing ratio in barplot\n",
    "plt.barh(df_missing.index,df_missing.Missing/len(df_fhc))"
   ]
  },
  {
   "cell_type": "code",
   "execution_count": 7,
   "id": "04a475cc-6cfc-4bfe-9108-b030b539129b",
   "metadata": {},
   "outputs": [],
   "source": [
    "# We used missing value ratio is less than 20% except additional columns which are closely related to our results\n",
    "additional = [\"Serum uric acid (mg/dl)\",\"Serum creatinine (SCr) (mg/dl)\"]\n",
    "use_cols = df_missing[(df_missing.Missing/822) <0.2].index[::-1].tolist() + additional"
   ]
  },
  {
   "cell_type": "code",
   "execution_count": 8,
   "id": "f38cb99d-80a3-4e03-aa7a-a4b13ba38678",
   "metadata": {},
   "outputs": [
    {
     "data": {
      "text/html": [
       "<div>\n",
       "<style scoped>\n",
       "    .dataframe tbody tr th:only-of-type {\n",
       "        vertical-align: middle;\n",
       "    }\n",
       "\n",
       "    .dataframe tbody tr th {\n",
       "        vertical-align: top;\n",
       "    }\n",
       "\n",
       "    .dataframe thead th {\n",
       "        text-align: right;\n",
       "    }\n",
       "</style>\n",
       "<table border=\"1\" class=\"dataframe\">\n",
       "  <thead>\n",
       "    <tr style=\"text-align: right;\">\n",
       "      <th></th>\n",
       "      <th>Missing</th>\n",
       "    </tr>\n",
       "  </thead>\n",
       "  <tbody>\n",
       "    <tr>\n",
       "      <th>Serum uric acid (mg/dl)</th>\n",
       "      <td>0.551095</td>\n",
       "    </tr>\n",
       "    <tr>\n",
       "      <th>Serum creatinine (SCr) (mg/dl)</th>\n",
       "      <td>0.593674</td>\n",
       "    </tr>\n",
       "  </tbody>\n",
       "</table>\n",
       "</div>"
      ],
      "text/plain": [
       "                                 Missing\n",
       "Serum uric acid (mg/dl)         0.551095\n",
       "Serum creatinine (SCr) (mg/dl)  0.593674"
      ]
     },
     "execution_count": 8,
     "metadata": {},
     "output_type": "execute_result"
    }
   ],
   "source": [
    "# Missing proportion\n",
    "df_missing.loc[additional]/822"
   ]
  },
  {
   "cell_type": "code",
   "execution_count": 9,
   "id": "77bcfa98-46e6-4b65-8e3c-ce48e3785876",
   "metadata": {},
   "outputs": [],
   "source": [
    "# Concatenate data with sex and death columns\n",
    "df_fhc = pd.merge(df_ps,df_fhc[use_cols], on = \"Enrollee ID\")"
   ]
  },
  {
   "cell_type": "code",
   "execution_count": 10,
   "id": "be75784e-f0d4-4384-8226-88b30bed8a58",
   "metadata": {},
   "outputs": [],
   "source": [
    "# We calculated eGFR from serum creatinine using the following formula\n",
    "\"\"\"\n",
    "eGFR=194×(Age)-0.287 ×(SCr)-1.094 (× 0.739 if Female)\n",
    "\"\"\"\n",
    "factor_dict = {\"Female\":0.739,\"Male\":1}\n",
    "df_fhc[\"eGFR\"] = df_fhc.apply(\n",
    "    lambda x: 194*np.power(x[\"Age_at_start\"],-0.287)*np.power(x[\"Serum creatinine (SCr) (mg/dl)\"],-1.094)*factor_dict[x[\"Sex\"]],axis=1)"
   ]
  },
  {
   "cell_type": "code",
   "execution_count": 11,
   "id": "ad4183c8-2b29-466b-86ad-97aba239b1a8",
   "metadata": {},
   "outputs": [
    {
     "data": {
      "text/html": [
       "<div>\n",
       "<style scoped>\n",
       "    .dataframe tbody tr th:only-of-type {\n",
       "        vertical-align: middle;\n",
       "    }\n",
       "\n",
       "    .dataframe tbody tr th {\n",
       "        vertical-align: top;\n",
       "    }\n",
       "\n",
       "    .dataframe thead th {\n",
       "        text-align: right;\n",
       "    }\n",
       "</style>\n",
       "<table border=\"1\" class=\"dataframe\">\n",
       "  <thead>\n",
       "    <tr style=\"text-align: right;\">\n",
       "      <th></th>\n",
       "      <th>Enrollee ID</th>\n",
       "      <th>Sex</th>\n",
       "      <th>Observation_start_yyyymm</th>\n",
       "      <th>Observation_end_yyyymm</th>\n",
       "      <th>Death_censor</th>\n",
       "      <th>Target_diag_yyyymm</th>\n",
       "      <th>Age_at_start</th>\n",
       "      <th>Obsevation_length</th>\n",
       "      <th>Target</th>\n",
       "      <th>Before_onset</th>\n",
       "      <th>...</th>\n",
       "      <th>γ-GT (γ-GTP) (U/l)</th>\n",
       "      <th>GPT (ALT) (U/l)</th>\n",
       "      <th>GOT (AST) (U/l)</th>\n",
       "      <th>LDL cholesterol (LDL-C) (mg/dl)</th>\n",
       "      <th>Dispstick urinary glucose</th>\n",
       "      <th>Dipstick urinary protein</th>\n",
       "      <th>HbA1c (% (NGSP))</th>\n",
       "      <th>Serum uric acid (mg/dl)</th>\n",
       "      <th>Serum creatinine (SCr) (mg/dl)</th>\n",
       "      <th>eGFR</th>\n",
       "    </tr>\n",
       "  </thead>\n",
       "  <tbody>\n",
       "    <tr>\n",
       "      <th>0</th>\n",
       "      <td>M000051963</td>\n",
       "      <td>Female</td>\n",
       "      <td>201101</td>\n",
       "      <td>201903</td>\n",
       "      <td>NaN</td>\n",
       "      <td>201411</td>\n",
       "      <td>36</td>\n",
       "      <td>98</td>\n",
       "      <td>1</td>\n",
       "      <td>46</td>\n",
       "      <td>...</td>\n",
       "      <td>18.0</td>\n",
       "      <td>13.0</td>\n",
       "      <td>17.0</td>\n",
       "      <td>116.0</td>\n",
       "      <td>1.0</td>\n",
       "      <td>2.0</td>\n",
       "      <td>5.6</td>\n",
       "      <td>4.1</td>\n",
       "      <td>0.72</td>\n",
       "      <td>73.428659</td>\n",
       "    </tr>\n",
       "    <tr>\n",
       "      <th>1</th>\n",
       "      <td>M000055609</td>\n",
       "      <td>Male</td>\n",
       "      <td>201203</td>\n",
       "      <td>201903</td>\n",
       "      <td>NaN</td>\n",
       "      <td>201504</td>\n",
       "      <td>60</td>\n",
       "      <td>84</td>\n",
       "      <td>1</td>\n",
       "      <td>37</td>\n",
       "      <td>...</td>\n",
       "      <td>44.0</td>\n",
       "      <td>20.0</td>\n",
       "      <td>21.0</td>\n",
       "      <td>93.0</td>\n",
       "      <td>1.0</td>\n",
       "      <td>1.0</td>\n",
       "      <td>6.1</td>\n",
       "      <td>NaN</td>\n",
       "      <td>NaN</td>\n",
       "      <td>NaN</td>\n",
       "    </tr>\n",
       "  </tbody>\n",
       "</table>\n",
       "<p>2 rows × 29 columns</p>\n",
       "</div>"
      ],
      "text/plain": [
       "  Enrollee ID     Sex  Observation_start_yyyymm  Observation_end_yyyymm  \\\n",
       "0  M000051963  Female                    201101                  201903   \n",
       "1  M000055609    Male                    201203                  201903   \n",
       "\n",
       "   Death_censor  Target_diag_yyyymm  Age_at_start  Obsevation_length  Target  \\\n",
       "0           NaN              201411            36                 98       1   \n",
       "1           NaN              201504            60                 84       1   \n",
       "\n",
       "   Before_onset  ...  γ-GT (γ-GTP) (U/l)  GPT (ALT) (U/l) GOT (AST) (U/l)  \\\n",
       "0            46  ...                18.0             13.0            17.0   \n",
       "1            37  ...                44.0             20.0            21.0   \n",
       "\n",
       "   LDL cholesterol (LDL-C) (mg/dl)  Dispstick urinary glucose  \\\n",
       "0                            116.0                        1.0   \n",
       "1                             93.0                        1.0   \n",
       "\n",
       "   Dipstick urinary protein  HbA1c (% (NGSP))  Serum uric acid (mg/dl)  \\\n",
       "0                       2.0               5.6                      4.1   \n",
       "1                       1.0               6.1                      NaN   \n",
       "\n",
       "   Serum creatinine (SCr) (mg/dl)       eGFR  \n",
       "0                            0.72  73.428659  \n",
       "1                             NaN        NaN  \n",
       "\n",
       "[2 rows x 29 columns]"
      ]
     },
     "execution_count": 11,
     "metadata": {},
     "output_type": "execute_result"
    }
   ],
   "source": [
    "df_fhc.head(2)"
   ]
  },
  {
   "cell_type": "markdown",
   "id": "e7c9058e-739b-49b0-aa13-b448fa10aa0b",
   "metadata": {},
   "source": [
    "## Make table using R gtsummary"
   ]
  },
  {
   "cell_type": "code",
   "execution_count": 12,
   "id": "d44cfe49-9433-45e8-b04d-2fef3f2ce97c",
   "metadata": {
    "tags": []
   },
   "outputs": [
    {
     "name": "stderr",
     "output_type": "stream",
     "text": [
      "R[write to console]:  要求されたパッケージ tidyverse をロード中です \n",
      "\n"
     ]
    },
    {
     "name": "stdout",
     "output_type": "stream",
     "text": [
      "── Attaching core tidyverse packages ──────────────────────── tidyverse 2.0.0 ──\n",
      "✔ dplyr     1.1.2     ✔ readr     2.1.4\n",
      "✔ forcats   1.0.0     ✔ stringr   1.5.0\n",
      "✔ ggplot2   3.4.2     ✔ tibble    3.2.1\n",
      "✔ lubridate 1.9.2     ✔ tidyr     1.3.0\n",
      "✔ purrr     1.0.1     \n",
      "── Conflicts ────────────────────────────────────────── tidyverse_conflicts() ──\n",
      "✖ dplyr::filter() masks stats::filter()\n",
      "✖ dplyr::lag()    masks stats::lag()\n",
      "ℹ Use the conflicted package (<http://conflicted.r-lib.org/>) to force all conflicts to become errors\n"
     ]
    },
    {
     "name": "stderr",
     "output_type": "stream",
     "text": [
      "R[write to console]:  要求されたパッケージ gtsummary をロード中です \n",
      "\n",
      "R[write to console]:  要求されたパッケージ survey をロード中です \n",
      "\n",
      "R[write to console]:  要求されたパッケージ grid をロード中です \n",
      "\n",
      "R[write to console]:  要求されたパッケージ Matrix をロード中です \n",
      "\n",
      "R[write to console]: \n",
      " 次のパッケージを付け加えます: ‘Matrix’ \n",
      "\n",
      "\n",
      "R[write to console]:  以下のオブジェクトは ‘package:tidyr’ からマスクされています: \n",
      "\n",
      "     expand, pack, unpack \n",
      "\n",
      "\n",
      "R[write to console]:  要求されたパッケージ survival をロード中です \n",
      "\n",
      "R[write to console]: \n",
      " 次のパッケージを付け加えます: ‘survey’ \n",
      "\n",
      "\n",
      "R[write to console]:  以下のオブジェクトは ‘package:graphics’ からマスクされています: \n",
      "\n",
      "     dotchart \n",
      "\n",
      "\n",
      "R[write to console]:  要求されたパッケージ data.table をロード中です \n",
      "\n",
      "R[write to console]: data.table 1.14.8 using 1 threads (see ?getDTthreads).  Latest news: r-datatable.com\n",
      "\n",
      "R[write to console]: **********\n",
      "This installation of data.table has not detected OpenMP support. It should still work but in single-threaded mode.\n",
      "This is a Mac. Please read https://mac.r-project.org/openmp/. Please engage with Apple and ask them for support. Check r-datatable.com for updates, and our Mac instructions here: https://github.com/Rdatatable/data.table/wiki/Installation. After several years of many reports of installation problems on Mac, it's time to gingerly point out that there have been no similar problems on Windows or Linux.\n",
      "**********\n",
      "\n",
      "R[write to console]: \n",
      " 次のパッケージを付け加えます: ‘data.table’ \n",
      "\n",
      "\n",
      "R[write to console]:  以下のオブジェクトは ‘package:lubridate’ からマスクされています: \n",
      "\n",
      "     hour, isoweek, mday, minute, month, quarter, second, wday, week,\n",
      "    yday, year \n",
      "\n",
      "\n",
      "R[write to console]:  以下のオブジェクトは ‘package:dplyr’ からマスクされています: \n",
      "\n",
      "     between, first, last \n",
      "\n",
      "\n",
      "R[write to console]:  以下のオブジェクトは ‘package:purrr’ からマスクされています: \n",
      "\n",
      "     transpose \n",
      "\n",
      "\n",
      "R[write to console]:  要求されたパッケージ flextable をロード中です \n",
      "\n",
      "R[write to console]: \n",
      " 次のパッケージを付け加えます: ‘flextable’ \n",
      "\n",
      "\n",
      "R[write to console]:  以下のオブジェクトは ‘package:gtsummary’ からマスクされています: \n",
      "\n",
      "     as_flextable, continuous_summary \n",
      "\n",
      "\n",
      "R[write to console]:  以下のオブジェクトは ‘package:purrr’ からマスクされています: \n",
      "\n",
      "     compose \n",
      "\n",
      "\n"
     ]
    }
   ],
   "source": [
    "%%R\n",
    "# Read libraries\n",
    "require(tidyverse)\n",
    "require(gtsummary)\n",
    "require(survey)\n",
    "require(forcats)\n",
    "require(data.table)\n",
    "require(flextable)"
   ]
  },
  {
   "cell_type": "code",
   "execution_count": 13,
   "id": "e4617ff8-bc0b-49b9-9787-7850b684eeb5",
   "metadata": {},
   "outputs": [
    {
     "name": "stdout",
     "output_type": "stream",
     "text": [
      "Setting theme `Compact`\n",
      "Setting theme `The Lancet`\n"
     ]
    }
   ],
   "source": [
    "%%R  \n",
    "\n",
    "# Show as a compact style\n",
    "theme_gtsummary_compact()\n",
    "theme_gtsummary_journal(journal=c(\"lancet\"),set_theme=TRUE)\n",
    "\n",
    "# If the distribution looks skewed, summarize it into median[IQR].\n",
    "nonpara <- c('Triglyceride (neutral fat) (mg/dl)', \n",
    "             'GOT (AST) (U/l)','GPT (ALT) (U/l)',\n",
    "             'γ-GT (γ-GTP) (U/l)', \n",
    "             'Fasting blood glucose (mg/dl)',\n",
    "             'HbA1c (% (NGSP))',\"Obsevation_length\",\n",
    "             \"Before_onset\",\"After_onset\") "
   ]
  },
  {
   "cell_type": "code",
   "execution_count": 14,
   "id": "0ac43056-81a0-4fe3-963c-ab26f940b3fe",
   "metadata": {
    "tags": []
   },
   "outputs": [
    {
     "name": "stderr",
     "output_type": "stream",
     "text": [
      "/Library/Frameworks/Python.framework/Versions/3.9/lib/python3.9/site-packages/rpy2/robjects/pandas2ri.py:60: UserWarning: Error while trying to convert the column \"Unit\". Fall back to string conversion. The error is: Series can only be of one type, or None (and here we have <class 'float'> and <class 'str'>). If happening with a pandas DataFrame the method infer_objects() will normalize data types before conversion.\n",
      "  warnings.warn('Error while trying to convert '\n",
      "/Library/Frameworks/Python.framework/Versions/3.9/lib/python3.9/site-packages/rpy2/robjects/pandas2ri.py:60: UserWarning: Error while trying to convert the column \"Classification_description_in_Japanese\". Fall back to string conversion. The error is: Series can only be of one type, or None (and here we have <class 'float'> and <class 'str'>). If happening with a pandas DataFrame the method infer_objects() will normalize data types before conversion.\n",
      "  warnings.warn('Error while trying to convert '\n",
      "/Library/Frameworks/Python.framework/Versions/3.9/lib/python3.9/site-packages/rpy2/robjects/pandas2ri.py:60: UserWarning: Error while trying to convert the column \"1\". Fall back to string conversion. The error is: Series can only be of one type, or None (and here we have <class 'float'> and <class 'str'>). If happening with a pandas DataFrame the method infer_objects() will normalize data types before conversion.\n",
      "  warnings.warn('Error while trying to convert '\n",
      "/Library/Frameworks/Python.framework/Versions/3.9/lib/python3.9/site-packages/rpy2/robjects/pandas2ri.py:60: UserWarning: Error while trying to convert the column \"2\". Fall back to string conversion. The error is: Series can only be of one type, or None (and here we have <class 'float'> and <class 'str'>). If happening with a pandas DataFrame the method infer_objects() will normalize data types before conversion.\n",
      "  warnings.warn('Error while trying to convert '\n",
      "/Library/Frameworks/Python.framework/Versions/3.9/lib/python3.9/site-packages/rpy2/robjects/pandas2ri.py:60: UserWarning: Error while trying to convert the column \"3\". Fall back to string conversion. The error is: Series can only be of one type, or None (and here we have <class 'float'> and <class 'str'>). If happening with a pandas DataFrame the method infer_objects() will normalize data types before conversion.\n",
      "  warnings.warn('Error while trying to convert '\n",
      "/Library/Frameworks/Python.framework/Versions/3.9/lib/python3.9/site-packages/rpy2/robjects/pandas2ri.py:60: UserWarning: Error while trying to convert the column \"4\". Fall back to string conversion. The error is: Series can only be of one type, or None (and here we have <class 'float'> and <class 'str'>). If happening with a pandas DataFrame the method infer_objects() will normalize data types before conversion.\n",
      "  warnings.warn('Error while trying to convert '\n",
      "/Library/Frameworks/Python.framework/Versions/3.9/lib/python3.9/site-packages/rpy2/robjects/pandas2ri.py:60: UserWarning: Error while trying to convert the column \"5\". Fall back to string conversion. The error is: Series can only be of one type, or None (and here we have <class 'float'> and <class 'str'>). If happening with a pandas DataFrame the method infer_objects() will normalize data types before conversion.\n",
      "  warnings.warn('Error while trying to convert '\n",
      "/Library/Frameworks/Python.framework/Versions/3.9/lib/python3.9/site-packages/rpy2/robjects/pandas2ri.py:60: UserWarning: Error while trying to convert the column \"6\". Fall back to string conversion. The error is: Series can only be of one type, or None (and here we have <class 'float'> and <class 'str'>). If happening with a pandas DataFrame the method infer_objects() will normalize data types before conversion.\n",
      "  warnings.warn('Error while trying to convert '\n",
      "/Library/Frameworks/Python.framework/Versions/3.9/lib/python3.9/site-packages/rpy2/robjects/pandas2ri.py:60: UserWarning: Error while trying to convert the column \"7\". Fall back to string conversion. The error is: Series can only be of one type, or None (and here we have <class 'float'> and <class 'str'>). If happening with a pandas DataFrame the method infer_objects() will normalize data types before conversion.\n",
      "  warnings.warn('Error while trying to convert '\n",
      "/Library/Frameworks/Python.framework/Versions/3.9/lib/python3.9/site-packages/rpy2/robjects/pandas2ri.py:60: UserWarning: Error while trying to convert the column \"8\". Fall back to string conversion. The error is: Series can only be of one type, or None (and here we have <class 'float'> and <class 'str'>). If happening with a pandas DataFrame the method infer_objects() will normalize data types before conversion.\n",
      "  warnings.warn('Error while trying to convert '\n"
     ]
    }
   ],
   "source": [
    "%%R -i df_fhc,df_en\n",
    "# Factorize category variable avoiding duplicated missing value\n",
    "is_categorical <- function(x) {\n",
    "  x %>% \n",
    "  as.character() %>% \n",
    "  unique() %>% \n",
    "  length() <= 10 \n",
    "    # Recognize variables as a categorical value, if it have lower than 11 unieque variable \n",
    "}\n",
    "\n",
    "# Factorize category variable\n",
    "df_fhc = df_fhc%>%mutate_if(is_categorical,as.factor)\n",
    "\n",
    "\n",
    "# Describe levels of factorized variable\n",
    "for(col in df_en$Bind){\n",
    "    if(col %in% names(df_fhc)){\n",
    "        if(is_categorical(df_fhc[[col]])){\n",
    "            # Number of category\n",
    "            num = df_en%>%filter(Bind==col)%>%pull(Categories) \n",
    "            # Level of the cateogry\n",
    "            sel = seq(num) %>% sapply(.,as.character) \n",
    "            new_level= df_en %>% \n",
    "                filter(Bind==col) %>% \n",
    "                select(all_of(sel)) %>% \n",
    "                t() %>% \n",
    "                append(.,\"Missing\")\n",
    "            old_level=levels(df_fhc[[col]])\n",
    "            # Dataframe to change level names\n",
    "            level_df = data.frame(old_level = old_level,new_level = new_level)\n",
    "            levels(df_fhc[[col]]) <- level_df$new_level[match(levels(df_fhc[[col]]), level_df$old_level)]\n",
    "        }\n",
    "    }\n",
    "}"
   ]
  },
  {
   "cell_type": "code",
   "execution_count": 15,
   "id": "f1144df6-af7a-45a8-8c81-848f162225d5",
   "metadata": {},
   "outputs": [],
   "source": [
    "%%R\n",
    "# Write table\n",
    "baseline <- df_fhc %>%  \n",
    "    # Exclude variables that seem irrelevant\n",
    "    select(-c('Enrollee ID', 'Health examination ymd','Health examination ID',\"Observation_start_yyyymm\",\"Observation_end_yyyymm\",\"Target_diag_yyyymm\")) %>% \n",
    "    # Recognize variables as a categorical value, \n",
    "    # if it have lower than 11 unieque variable (Default)\n",
    "    mutate(Target = factor(Target, labels = c(\"Control\",\"Case\")))\n",
    "baseline%>%\n",
    "    gtsummary::tbl_summary(\n",
    "        by = \"Target\", \n",
    "        label=list(\"Diastolic blood pressure (DBP) (mmHg)\"~\"DBP (mmHg)\",\n",
    "                   \"Systolic blood pressure (SBP) (mmHg)\"~\"SBP (mmHg)\",\n",
    "                   \"HDL cholesterol (HDL-C) (mg/dl)\" ~ \"HDL-C (mg/dl)\",\n",
    "                   \"LDL cholesterol (LDL-C) (mg/dl)\" ~  \"LDL-C (mg/dl)\",\n",
    "                   \"Serum uric acid (mg/dl)\" ~ \"sUA (mg/dl)\",\n",
    "                    \"Serum creatinine (SCr) (mg/dl)\" ~ \"SCr (mg/dl)\",\n",
    "                   \"eGFR\" ~ \"eGFR (ml/min/1.73m2)\"\n",
    "                  ),\n",
    "        missing = \"ifany\", \n",
    "        missing_text = \"Missing\",\n",
    "        type = list(all_continuous()~\"continuous\",\n",
    "                    all_categorical()~\"categorical\",all_of(nonpara) ~\"continuous\"\n",
    "                 ),\n",
    "        statistic = list(all_continuous() ~ \"{mean} ± {sd}\",\n",
    "                         all_categorical() ~ \"{n} ({p}%)\",\n",
    "                         all_of(nonpara) ~ \"{median} ({p25}, {p75})\"\n",
    "                       ),\n",
    "        digits = list(all_continuous() ~ 1)\n",
    "    ) %>%\n",
    "   add_p(pvalue_fun = ~style_pvalue(.x, digits = 3)) %>%\n",
    "   modify_header(\n",
    "       label = '',\n",
    "       stat_1 = 'Control (N=411)',\n",
    "       stat_2 = 'NS (N=411)',\n",
    "       p.value = 'p-value') %>%\n",
    "   as_flex_table() %>% \n",
    "   save_as_docx(path = \"./NephroticSyndrome_csv/Checukup_statistics_table.docx\")"
   ]
  },
  {
   "cell_type": "markdown",
   "id": "1ac45063-dcc6-4628-990a-b69ebb837e42",
   "metadata": {},
   "source": [
    "The footnotes, font styles, some items were modified after output. Remove death's missing because it does not mean a missing value."
   ]
  },
  {
   "cell_type": "code",
   "execution_count": null,
   "id": "af7aa560-8197-44ef-9736-a8bfb6a26ba0",
   "metadata": {},
   "outputs": [],
   "source": []
  }
 ],
 "metadata": {
  "kernelspec": {
   "display_name": "Python 3 (ipykernel)",
   "language": "python",
   "name": "python3"
  },
  "language_info": {
   "codemirror_mode": {
    "name": "ipython",
    "version": 3
   },
   "file_extension": ".py",
   "mimetype": "text/x-python",
   "name": "python",
   "nbconvert_exporter": "python",
   "pygments_lexer": "ipython3",
   "version": "3.9.9"
  }
 },
 "nbformat": 4,
 "nbformat_minor": 5
}
